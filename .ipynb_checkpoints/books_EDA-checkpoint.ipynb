{
 "cells": [
  {
   "cell_type": "markdown",
   "id": "90111c1a",
   "metadata": {},
   "source": [
    "# Importing and Reading Data"
   ]
  },
  {
   "cell_type": "code",
   "execution_count": 2,
   "id": "6709043a",
   "metadata": {},
   "outputs": [],
   "source": [
    "import pandas as pd \n",
    "import numpy as np \n",
    "import matplotlib.pyplot as plt \n",
    "import seaborn as sns \n",
    "plt.style.use('ggplot')\n",
    "pd.set_option('display.max_columns', 200)"
   ]
  },
  {
   "cell_type": "markdown",
   "id": "88f3e1e3",
   "metadata": {},
   "source": [
    "# Understanding The Data"
   ]
  },
  {
   "cell_type": "markdown",
   "id": "5e4aaa6c",
   "metadata": {},
   "source": [
    "- **.shape / .info()** – to check the size and structure of the dataset\n",
    "- **.dtypes** – to understand data types for each column\n",
    "- **.describe()** – to get summary statistics of numeric columns"
   ]
  },
  {
   "cell_type": "code",
   "execution_count": 3,
   "id": "05d200f4",
   "metadata": {},
   "outputs": [],
   "source": [
    "df= pd.read_csv('books_data.csv')"
   ]
  },
  {
   "cell_type": "code",
   "execution_count": 4,
   "id": "0daa622b",
   "metadata": {},
   "outputs": [
    {
     "data": {
      "text/plain": [
       "(616, 7)"
      ]
     },
     "execution_count": 4,
     "metadata": {},
     "output_type": "execute_result"
    }
   ],
   "source": [
    "df.shape"
   ]
  },
  {
   "cell_type": "code",
   "execution_count": 5,
   "id": "672748d7",
   "metadata": {},
   "outputs": [
    {
     "data": {
      "text/plain": [
       "Index(['Title', 'Author', 'Rating', 'Avg Rating', 'Date Added', 'Num Pages',\n",
       "       'Genre'],\n",
       "      dtype='object')"
      ]
     },
     "execution_count": 5,
     "metadata": {},
     "output_type": "execute_result"
    }
   ],
   "source": [
    "df.columns"
   ]
  },
  {
   "cell_type": "code",
   "execution_count": 6,
   "id": "e94df643",
   "metadata": {},
   "outputs": [
    {
     "data": {
      "text/plain": [
       "Title          object\n",
       "Author         object\n",
       "Rating         object\n",
       "Avg Rating    float64\n",
       "Date Added     object\n",
       "Num Pages      object\n",
       "Genre          object\n",
       "dtype: object"
      ]
     },
     "execution_count": 6,
     "metadata": {},
     "output_type": "execute_result"
    }
   ],
   "source": [
    "df.dtypes"
   ]
  },
  {
   "cell_type": "markdown",
   "id": "2267c704",
   "metadata": {},
   "source": [
    "# Data Preparation"
   ]
  },
  {
   "cell_type": "code",
   "execution_count": 9,
   "id": "5300e7c4",
   "metadata": {},
   "outputs": [
    {
     "data": {
      "text/html": [
       "<div>\n",
       "<style scoped>\n",
       "    .dataframe tbody tr th:only-of-type {\n",
       "        vertical-align: middle;\n",
       "    }\n",
       "\n",
       "    .dataframe tbody tr th {\n",
       "        vertical-align: top;\n",
       "    }\n",
       "\n",
       "    .dataframe thead th {\n",
       "        text-align: right;\n",
       "    }\n",
       "</style>\n",
       "<table border=\"1\" class=\"dataframe\">\n",
       "  <thead>\n",
       "    <tr style=\"text-align: right;\">\n",
       "      <th></th>\n",
       "      <th>Title</th>\n",
       "      <th>Author</th>\n",
       "      <th>Rating</th>\n",
       "      <th>Avg Rating</th>\n",
       "      <th>Date Added</th>\n",
       "      <th>Num Pages</th>\n",
       "      <th>Genre</th>\n",
       "    </tr>\n",
       "  </thead>\n",
       "  <tbody>\n",
       "    <tr>\n",
       "      <th>0</th>\n",
       "      <td>Hunger(Unbound #3)</td>\n",
       "      <td>Gonnella, Nicoli</td>\n",
       "      <td>it was ok</td>\n",
       "      <td>4.43</td>\n",
       "      <td>Apr 19, 2025</td>\n",
       "      <td>1,035pp</td>\n",
       "      <td>Fantasy</td>\n",
       "    </tr>\n",
       "    <tr>\n",
       "      <th>1</th>\n",
       "      <td>Silence(Unbound #2)</td>\n",
       "      <td>Gonnella, Nicoli</td>\n",
       "      <td>liked it</td>\n",
       "      <td>4.23</td>\n",
       "      <td>Apr 19, 2025</td>\n",
       "      <td>482pp</td>\n",
       "      <td>Fantasy</td>\n",
       "    </tr>\n",
       "    <tr>\n",
       "      <th>2</th>\n",
       "      <td>Dissonance(Unbound #1)</td>\n",
       "      <td>Gonnella, Nicoli</td>\n",
       "      <td>really liked it</td>\n",
       "      <td>4.38</td>\n",
       "      <td>Apr 16, 2025</td>\n",
       "      <td>778pp</td>\n",
       "      <td>Fantasy</td>\n",
       "    </tr>\n",
       "    <tr>\n",
       "      <th>3</th>\n",
       "      <td>The Dungeon Anarchist's Cookbook(Dungeon Crawl...</td>\n",
       "      <td>Dinniman, Matt</td>\n",
       "      <td>it was ok</td>\n",
       "      <td>4.48</td>\n",
       "      <td>Apr 15, 2025</td>\n",
       "      <td>534pp</td>\n",
       "      <td>Fantasy</td>\n",
       "    </tr>\n",
       "    <tr>\n",
       "      <th>4</th>\n",
       "      <td>Carl's Doomsday Scenario(Dungeon Crawler Carl,...</td>\n",
       "      <td>Dinniman, Matt</td>\n",
       "      <td>liked it</td>\n",
       "      <td>4.53</td>\n",
       "      <td>Apr 14, 2025</td>\n",
       "      <td>364pp</td>\n",
       "      <td>Fantasy</td>\n",
       "    </tr>\n",
       "  </tbody>\n",
       "</table>\n",
       "</div>"
      ],
      "text/plain": [
       "                                               Title            Author  \\\n",
       "0                                 Hunger(Unbound #3)  Gonnella, Nicoli   \n",
       "1                                Silence(Unbound #2)  Gonnella, Nicoli   \n",
       "2                             Dissonance(Unbound #1)  Gonnella, Nicoli   \n",
       "3  The Dungeon Anarchist's Cookbook(Dungeon Crawl...    Dinniman, Matt   \n",
       "4  Carl's Doomsday Scenario(Dungeon Crawler Carl,...    Dinniman, Matt   \n",
       "\n",
       "            Rating  Avg Rating    Date Added Num Pages    Genre  \n",
       "0        it was ok        4.43  Apr 19, 2025   1,035pp  Fantasy  \n",
       "1         liked it        4.23  Apr 19, 2025     482pp  Fantasy  \n",
       "2  really liked it        4.38  Apr 16, 2025     778pp  Fantasy  \n",
       "3        it was ok        4.48  Apr 15, 2025     534pp  Fantasy  \n",
       "4         liked it        4.53  Apr 14, 2025     364pp  Fantasy  "
      ]
     },
     "execution_count": 9,
     "metadata": {},
     "output_type": "execute_result"
    }
   ],
   "source": [
    "df.head()"
   ]
  },
  {
   "cell_type": "code",
   "execution_count": 10,
   "id": "f8a32837",
   "metadata": {},
   "outputs": [],
   "source": [
    "df = df.rename(columns={\n",
    "    \"Title\": \"title\",\n",
    "    \"Author\": \"author\",\n",
    "    \"Rating\": \"rating\",\n",
    "    \"Avg Rating\": \"avg_rating\",\n",
    "    \"Date Added\": \"date_added\",\n",
    "    \"Num Pages\": \"num_of_pages\",\n",
    "    \"Genre\": \"genre\"\n",
    "})"
   ]
  },
  {
   "cell_type": "code",
   "execution_count": 11,
   "id": "96ccf66f",
   "metadata": {},
   "outputs": [],
   "source": [
    "rating_map = {\n",
    "    \"did not like it\": 1,\n",
    "    \"it was ok\": 2,\n",
    "    \"liked it\": 3,\n",
    "    \"really liked it\": 4,\n",
    "    \"it was amazing\": 5\n",
    "}\n",
    "\n",
    "# Apply mapping to create the new column\n",
    "df[\"rating_num\"] = df[\"rating\"].map(rating_map)"
   ]
  },
  {
   "cell_type": "code",
   "execution_count": 12,
   "id": "ca87105e",
   "metadata": {},
   "outputs": [],
   "source": [
    "\n",
    "df[\"num_of_pages\"] = df[\"num_of_pages\"].str.replace(\",\", \"\").str.replace(\"pp\", \"\")\n",
    "df[\"num_of_pages\"] = pd.to_numeric(df[\"num_of_pages\"], errors=\"coerce\")  # Converts invalid values to NaN\n"
   ]
  },
  {
   "cell_type": "code",
   "execution_count": 13,
   "id": "f64efa3d",
   "metadata": {},
   "outputs": [],
   "source": [
    "df['date_added'] = pd.to_datetime(df['date_added'])"
   ]
  },
  {
   "cell_type": "code",
   "execution_count": 14,
   "id": "802b74a4",
   "metadata": {},
   "outputs": [],
   "source": [
    "df[\"author\"] = df[\"author\"].str.split(\", \").str[::-1].str.join(\" \")"
   ]
  },
  {
   "cell_type": "code",
   "execution_count": 15,
   "id": "53af6f43",
   "metadata": {},
   "outputs": [],
   "source": [
    "df[\"genre\"] = df[\"genre\"].str.lower().str.replace(\" \", \"_\")\n"
   ]
  },
  {
   "cell_type": "code",
   "execution_count": null,
   "id": "9926d290",
   "metadata": {},
   "outputs": [],
   "source": []
  },
  {
   "cell_type": "code",
   "execution_count": 16,
   "id": "4a5e6d62",
   "metadata": {},
   "outputs": [],
   "source": [
    "\n",
    "df = df.drop(\"rating\", axis=1)\n",
    "\n",
    "# Save the updated DataFrame back to CSV\n",
    "df.to_csv(\"cleaned_data.csv\", index=False)\n"
   ]
  },
  {
   "cell_type": "code",
   "execution_count": 17,
   "id": "f5d4371c",
   "metadata": {},
   "outputs": [
    {
     "data": {
      "text/plain": [
       "Index(['title', 'author', 'avg_rating', 'date_added', 'num_of_pages', 'genre',\n",
       "       'rating_num'],\n",
       "      dtype='object')"
      ]
     },
     "execution_count": 17,
     "metadata": {},
     "output_type": "execute_result"
    }
   ],
   "source": [
    "df.columns"
   ]
  },
  {
   "cell_type": "code",
   "execution_count": 18,
   "id": "dbfafbe4-71e2-4d90-a716-2be21c092d68",
   "metadata": {},
   "outputs": [
    {
     "data": {
      "text/html": [
       "<div>\n",
       "<style scoped>\n",
       "    .dataframe tbody tr th:only-of-type {\n",
       "        vertical-align: middle;\n",
       "    }\n",
       "\n",
       "    .dataframe tbody tr th {\n",
       "        vertical-align: top;\n",
       "    }\n",
       "\n",
       "    .dataframe thead th {\n",
       "        text-align: right;\n",
       "    }\n",
       "</style>\n",
       "<table border=\"1\" class=\"dataframe\">\n",
       "  <thead>\n",
       "    <tr style=\"text-align: right;\">\n",
       "      <th></th>\n",
       "      <th>title</th>\n",
       "      <th>author</th>\n",
       "      <th>avg_rating</th>\n",
       "      <th>date_added</th>\n",
       "      <th>num_of_pages</th>\n",
       "      <th>genre</th>\n",
       "      <th>rating_num</th>\n",
       "    </tr>\n",
       "  </thead>\n",
       "  <tbody>\n",
       "    <tr>\n",
       "      <th>0</th>\n",
       "      <td>Hunger(Unbound #3)</td>\n",
       "      <td>Nicoli Gonnella</td>\n",
       "      <td>4.43</td>\n",
       "      <td>2025-04-19</td>\n",
       "      <td>1035.0</td>\n",
       "      <td>fantasy</td>\n",
       "      <td>2.0</td>\n",
       "    </tr>\n",
       "    <tr>\n",
       "      <th>1</th>\n",
       "      <td>Silence(Unbound #2)</td>\n",
       "      <td>Nicoli Gonnella</td>\n",
       "      <td>4.23</td>\n",
       "      <td>2025-04-19</td>\n",
       "      <td>482.0</td>\n",
       "      <td>fantasy</td>\n",
       "      <td>3.0</td>\n",
       "    </tr>\n",
       "    <tr>\n",
       "      <th>2</th>\n",
       "      <td>Dissonance(Unbound #1)</td>\n",
       "      <td>Nicoli Gonnella</td>\n",
       "      <td>4.38</td>\n",
       "      <td>2025-04-16</td>\n",
       "      <td>778.0</td>\n",
       "      <td>fantasy</td>\n",
       "      <td>4.0</td>\n",
       "    </tr>\n",
       "    <tr>\n",
       "      <th>3</th>\n",
       "      <td>The Dungeon Anarchist's Cookbook(Dungeon Crawl...</td>\n",
       "      <td>Matt Dinniman</td>\n",
       "      <td>4.48</td>\n",
       "      <td>2025-04-15</td>\n",
       "      <td>534.0</td>\n",
       "      <td>fantasy</td>\n",
       "      <td>2.0</td>\n",
       "    </tr>\n",
       "    <tr>\n",
       "      <th>4</th>\n",
       "      <td>Carl's Doomsday Scenario(Dungeon Crawler Carl,...</td>\n",
       "      <td>Matt Dinniman</td>\n",
       "      <td>4.53</td>\n",
       "      <td>2025-04-14</td>\n",
       "      <td>364.0</td>\n",
       "      <td>fantasy</td>\n",
       "      <td>3.0</td>\n",
       "    </tr>\n",
       "  </tbody>\n",
       "</table>\n",
       "</div>"
      ],
      "text/plain": [
       "                                               title           author  \\\n",
       "0                                 Hunger(Unbound #3)  Nicoli Gonnella   \n",
       "1                                Silence(Unbound #2)  Nicoli Gonnella   \n",
       "2                             Dissonance(Unbound #1)  Nicoli Gonnella   \n",
       "3  The Dungeon Anarchist's Cookbook(Dungeon Crawl...    Matt Dinniman   \n",
       "4  Carl's Doomsday Scenario(Dungeon Crawler Carl,...    Matt Dinniman   \n",
       "\n",
       "   avg_rating date_added  num_of_pages    genre  rating_num  \n",
       "0        4.43 2025-04-19        1035.0  fantasy         2.0  \n",
       "1        4.23 2025-04-19         482.0  fantasy         3.0  \n",
       "2        4.38 2025-04-16         778.0  fantasy         4.0  \n",
       "3        4.48 2025-04-15         534.0  fantasy         2.0  \n",
       "4        4.53 2025-04-14         364.0  fantasy         3.0  "
      ]
     },
     "execution_count": 18,
     "metadata": {},
     "output_type": "execute_result"
    }
   ],
   "source": [
    "df.head()"
   ]
  },
  {
   "cell_type": "code",
   "execution_count": null,
   "id": "f6626a49-5820-445d-bde0-bc31777c7afe",
   "metadata": {},
   "outputs": [],
   "source": []
  }
 ],
 "metadata": {
  "kernelspec": {
   "display_name": "Python 3 (ipykernel)",
   "language": "python",
   "name": "python3"
  },
  "language_info": {
   "codemirror_mode": {
    "name": "ipython",
    "version": 3
   },
   "file_extension": ".py",
   "mimetype": "text/x-python",
   "name": "python",
   "nbconvert_exporter": "python",
   "pygments_lexer": "ipython3",
   "version": "3.13.3"
  }
 },
 "nbformat": 4,
 "nbformat_minor": 5
}
